{
  "nbformat": 4,
  "nbformat_minor": 0,
  "metadata": {
    "colab": {
      "name": "MMDetection",
      "private_outputs": true,
      "provenance": [],
      "collapsed_sections": [],
      "mount_file_id": "1B3_wMNh695knFJcaCSTeZCG7gCXG-whs",
      "authorship_tag": "ABX9TyPtLzoIp0FfLul5p3BGfDHN",
      "include_colab_link": true
    },
    "kernelspec": {
      "name": "python3",
      "display_name": "Python 3"
    },
    "accelerator": "GPU"
  },
  "cells": [
    {
      "cell_type": "markdown",
      "metadata": {
        "id": "view-in-github",
        "colab_type": "text"
      },
      "source": [
        "<a href=\"https://colab.research.google.com/github/gihoonpark/Arirang_satellite_object_detection-RCNN-open_source-mmdection-/blob/main/MMDetection.ipynb\" target=\"_parent\"><img src=\"https://colab.research.google.com/assets/colab-badge.svg\" alt=\"Open In Colab\"/></a>"
      ]
    },
    {
      "cell_type": "code",
      "metadata": {
        "id": "G7_GfaM5rC6g"
      },
      "source": [
        "!nvcc -V"
      ],
      "execution_count": null,
      "outputs": []
    },
    {
      "cell_type": "code",
      "metadata": {
        "id": "nAQ-Ig0Vrfc2"
      },
      "source": [
        "!gcc --version"
      ],
      "execution_count": null,
      "outputs": []
    },
    {
      "cell_type": "code",
      "metadata": {
        "id": "k3mWSJZfrkeE"
      },
      "source": [
        "!pip install -U torch==1.5.1+cu101 torchvision==0.6.1+cu101 -f https://download.pytorch.org/whl/torch_stable.html\n",
        "!pip install mmcv-full\n",
        "!rm -rf mmdetection\n",
        "!git clone https://github.com/open-mmlab/mmdetection.git\n",
        "%cd mmdetection\n",
        "!pip install -e .\n",
        "!pip install Pillow==7.0.0"
      ],
      "execution_count": null,
      "outputs": []
    },
    {
      "cell_type": "code",
      "metadata": {
        "id": "iXgNehCDrrNo"
      },
      "source": [
        "# Check Pytorch installation\n",
        "import torch, torchvision\n",
        "print(torch.__version__, torch.cuda.is_available())\n",
        "\n",
        "# Check MMDetection installation\n",
        "import mmdet\n",
        "print(mmdet.__version__)\n",
        "\n",
        "# Check mmcv installation\n",
        "from mmcv.ops import get_compiling_cuda_version, get_compiler_version\n",
        "print(get_compiling_cuda_version())\n",
        "print(get_compiler_version())"
      ],
      "execution_count": null,
      "outputs": []
    },
    {
      "cell_type": "code",
      "metadata": {
        "id": "wmUmIq9rrur-"
      },
      "source": [
        "!mkdir checkpoints\n",
        "!wget -c https://dl.fbaipublicfiles.com/pycls/dds_baselines/161305613/EN-B0_dds_8gpu.pyth"
      ],
      "execution_count": null,
      "outputs": []
    },
    {
      "cell_type": "code",
      "metadata": {
        "id": "P8O1vrPlwsQr"
      },
      "source": [
        "cd /content/mmdetection/"
      ],
      "execution_count": null,
      "outputs": []
    },
    {
      "cell_type": "code",
      "metadata": {
        "id": "5f6yCwUA3Nir"
      },
      "source": [
        "! python tools/train.py configs/_base_/default_runtime.py"
      ],
      "execution_count": null,
      "outputs": []
    },
    {
      "cell_type": "code",
      "metadata": {
        "id": "Yx7xTE0947ml"
      },
      "source": [
        "! python tools/test.py configs/_base_/default_runtime.py work_dirs/default_runtime/epoch_2.pth --show-dir work_dirs/result3"
      ],
      "execution_count": null,
      "outputs": []
    },
    {
      "cell_type": "code",
      "metadata": {
        "id": "98-Bv1sVa77V"
      },
      "source": [
        "! python tools/test.py configs/_base_/default_runtime.py work_dirs/default_runtime/epoch_48.pth --format-only --eval-options \"jsonfile_prefix=./rcnn_epoch48_test_results\""
      ],
      "execution_count": null,
      "outputs": []
    },
    {
      "cell_type": "code",
      "metadata": {
        "id": "SQdW-Hgh6LJh"
      },
      "source": [
        "import pandas as pd\r\n",
        "\r\n",
        "def submit(json_file_path):\r\n",
        "    data_df = pd.read_json(json_file_path, lines=True)\r\n",
        "    with open(json_file_path, \"r\", encoding=\"utf-8\") as f:\r\n",
        "        ddata = json.load(f) \r\n",
        "    df = pd.DataFrame(ddata)\r\n",
        "    point1_x=[]\r\n",
        "    point1_y=[]\r\n",
        "    point2_x=[]\r\n",
        "    point2_y=[]\r\n",
        "    point3_x=[]\r\n",
        "    point3_y=[]\r\n",
        "    point4_x=[]\r\n",
        "    point4_y=[]\r\n",
        "    for i in df.loc[:,'bbox']:\r\n",
        "        point1_x.append(i[0])\r\n",
        "        point1_y.append(i[1])\r\n",
        "        point2_x.append(i[0]+i[2])\r\n",
        "        point2_y.append(i[1])\r\n",
        "        point3_x.append(i[0]+i[2])\r\n",
        "        point3_y.append(i[1]+i[3])\r\n",
        "        point4_x.append(i[0])\r\n",
        "        point4_y.append(i[1]+i[3])\r\n",
        "    class_id = []\r\n",
        "    confidence = []\r\n",
        "    for j in df.loc[:,'score']:\r\n",
        "        confidence.append(j)\r\n",
        "    for k in df.loc[:,'category_id']:\r\n",
        "        class_id.append(k)\r\n",
        "    file_name_list = ['OBJ05258_PS3_K3A_NIA0342.png', 'OBJ05035_PS3_K3A_NIA0329.png', 'OBJ05644_PS3_K3A_NIA0359.png', 'OBJ03991_PS3_K3A_NIA0166.png', 'OBJ04430_PS3_K3A_NIA0290.png', 'OBJ05254_PS3_K3A_NIA0341.png', 'OBJ03726_PS3_K3A_NIA0156.png', 'OBJ05704_PS3_K3A_NIA0362.png', 'OBJ04934_PS3_K3A_NIA0324.png', 'OBJ05137_PS3_K3A_NIA0334.png', 'OBJ02587_PS3_K3_NIA0124.png', 'OBJ03791_PS3_K3A_NIA0158.png', 'OBJ01735_PS3_K3_NIA0104.png', 'OBJ04090_PS3_K3A_NIA0174.png', 'OBJ03542_PS3_K3A_NIA0148.png', 'OBJ04571_PS3_K3A_NIA0301.png', 'OBJ05586_PS3_K3A_NIA0357.png', 'OBJ05713_PS3_K3A_NIA0363.png', 'OBJ03837_PS3_K3A_NIA0161.png', 'OBJ03511_PS3_K3A_NIA0146.png', 'OBJ04103_PS3_K3A_NIA0174.png', 'OBJ03730_PS3_K3A_NIA0156.png', 'OBJ03870_PS3_K3A_NIA0163.png', 'OBJ05358_PS3_K3A_NIA0346.png', 'OBJ05700_PS3_K3A_NIA0362.png', 'OBJ03698_PS3_K3A_NIA0155.png', 'OBJ04558_PS3_K3A_NIA0300.png', 'OBJ03719_PS3_K3A_NIA0156.png', 'OBJ05272_PS3_K3A_NIA0342.png', 'OBJ05544_PS3_K3A_NIA0354.png', 'OBJ05367_PS3_K3A_NIA0346.png', 'OBJ05016_PS3_K3A_NIA0329.png', 'OBJ04523_PS3_K3A_NIA0299.png', 'OBJ04038_PS3_K3A_NIA0170.png', 'OBJ05595_PS3_K3A_NIA0357.png', 'OBJ05260_PS3_K3A_NIA0342.png', 'OBJ04084_PS3_K3A_NIA0172.png', 'OBJ05018_PS3_K3A_NIA0329.png', 'OBJ03933_PS3_K3A_NIA0166.png', 'OBJ03906_PS3_K3A_NIA0165.png', 'OBJ04871_PS3_K3A_NIA0318.png', 'OBJ05492_PS3_K3A_NIA0166.png', 'OBJ04819_PS3_K3A_NIA0316.png', 'OBJ03737_PS3_K3A_NIA0156.png', 'OBJ03411_PS3_K3A_NIA0138.png', 'OBJ03472_PS3_K3A_NIA0142.png', 'OBJ04654_PS3_K3A_NIA0309.png', 'OBJ04166_PS3_K3A_NIA0180.png', 'OBJ05261_PS3_K3A_NIA0342.png', 'OBJ04035_PS3_K3A_NIA0170.png', 'OBJ05616_PS3_K3A_NIA0358.png', 'OBJ05625_PS3_K3A_NIA0358.png', 'OBJ05451_PS3_K3A_NIA0166.png', 'OBJ04936_PS3_K3A_NIA0324.png', 'OBJ05530_PS3_K3A_NIA0353.png', 'OBJ04027_PS3_K3A_NIA0169.png', 'OBJ05624_PS3_K3A_NIA0358.png', 'OBJ03739_PS3_K3A_NIA0156.png', 'OBJ03951_PS3_K3A_NIA0166.png', 'OBJ05731_PS3_K3A_NIA0363.png', 'OBJ04007_PS3_K3A_NIA0167.png', 'OBJ04937_PS3_K3A_NIA0324.png', 'OBJ05342_PS3_K3A_NIA0345.png', 'OBJ05430_PS3_K3A_NIA0350.png', 'OBJ05297_PS3_K3A_NIA0343.png', 'OBJ05778_PS3_K3A_NIA0368.png', 'OBJ04066_PS3_K3A_NIA0171.png', 'OBJ03785_PS3_K3A_NIA0158.png', 'OBJ04669_PS3_K3A_NIA0312.png', 'OBJ04105_PS3_K3A_NIA0174.png', 'OBJ04092_PS3_K3A_NIA0174.png', 'OBJ05102_PS3_K3A_NIA0333.png', 'OBJ05170_PS3_K3A_NIA0338.png', 'OBJ03618_PS3_K3A_NIA0151.png', 'OBJ04773_PS3_K3A_NIA0314.png', 'OBJ03702_PS3_K3A_NIA0155.png', 'OBJ05758_PS3_K3A_NIA0365.png', 'OBJ05377_PS3_K3A_NIA0346.png', 'OBJ04659_PS3_K3A_NIA0309.png', 'OBJ04450_PS3_K3A_NIA0292.png', 'OBJ03619_PS3_K3A_NIA0151.png', 'OBJ03720_PS3_K3A_NIA0156.png', 'OBJ05270_PS3_K3A_NIA0342.png', 'OBJ05308_PS3_K3A_NIA0344.png', 'OBJ03597_PS3_K3A_NIA0151.png', 'OBJ04569_PS3_K3A_NIA0301.png', 'OBJ03518_PS3_K3A_NIA0146.png', 'OBJ03649_PS3_K3A_NIA0153.png', 'OBJ04333_PS3_K3A_NIA0281.png', 'OBJ00949_PS3_K3_NIA0089.png', 'OBJ04632_PS3_K3A_NIA0304.png', 'OBJ05604_PS3_K3A_NIA0357.png', 'OBJ04106_PS3_K3A_NIA0174.png', 'OBJ03825_PS3_K3A_NIA0160.png', 'OBJ03781_PS3_K3A_NIA0158.png', 'OBJ05029_PS3_K3A_NIA0329.png', 'OBJ04119_PS3_K3A_NIA0175.png', 'OBJ05476_PS3_K3A_NIA0166.png', 'OBJ04022_PS3_K3A_NIA0169.png', 'OBJ03801_PS3_K3A_NIA0159.png']\r\n",
        "    file_name = []\r\n",
        "    # image_id_lis = [1,1,1,1,1,2,2,2,...,100,100,100,100]\r\n",
        "    image_id_list = list(df.loc[:, 'image_id'])\r\n",
        "    for i in image_id_list:\r\n",
        "        file_name.append(file_name_list[i-1])\r\n",
        "\r\n",
        "    sub_form_df = pd.concat([pd.DataFrame(file_name, columns=['file_name']), pd.DataFrame(class_id, columns=['class_id']),pd.DataFrame(confidence, columns=['confidence']),\r\n",
        "           pd.DataFrame(point1_x, columns=['point1_x']), pd.DataFrame(point1_y, columns=['point1_y']), \r\n",
        "           pd.DataFrame(point2_x, columns=['point2_x']), pd.DataFrame(point2_y, columns=['point2_y']),\r\n",
        "           pd.DataFrame(point3_x, columns=['point3_x']), pd.DataFrame(point3_y, columns=['point3_y']), \r\n",
        "           pd.DataFrame(point4_x, columns=['point4_x']), pd.DataFrame(point4_y, columns=['point4_y'])], axis=1)\r\n",
        "    \r\n",
        "    return sub_form_df"
      ],
      "execution_count": null,
      "outputs": []
    },
    {
      "cell_type": "code",
      "metadata": {
        "id": "y1NkVGb96LNB"
      },
      "source": [
        "submit('/content/drive/My Drive/dataset/COCO2DOTA/rcnn_epoch12_test_results.bbox.json')"
      ],
      "execution_count": null,
      "outputs": []
    },
    {
      "cell_type": "code",
      "metadata": {
        "id": "GBFXF0pB6NaR"
      },
      "source": [
        "df.to_csv(index=False)\r\n",
        "compression_opts = dict(method='zip',\r\n",
        "                        archive_name='sub.csv')  \r\n",
        "df.to_csv('sub.zip', index=False,\r\n",
        "          compression=compression_opts)  "
      ],
      "execution_count": null,
      "outputs": []
    }
  ]
}